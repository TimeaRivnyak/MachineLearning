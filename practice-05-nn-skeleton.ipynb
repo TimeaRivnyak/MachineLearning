{
 "cells": [
  {
   "cell_type": "code",
   "execution_count": 1,
   "metadata": {
    "_cell_guid": "b1076dfc-b9ad-4769-8c92-a6c4dae69d19",
    "_uuid": "8f2839f25d086af736a60e9eeb907d3b93b6e0e5",
    "execution": {
     "iopub.execute_input": "2022-03-24T11:14:52.054314Z",
     "iopub.status.busy": "2022-03-24T11:14:52.053725Z",
     "iopub.status.idle": "2022-03-24T11:14:52.098440Z",
     "shell.execute_reply": "2022-03-24T11:14:52.097607Z",
     "shell.execute_reply.started": "2022-03-24T11:14:52.054278Z"
    },
    "trusted": true
   },
   "outputs": [
    {
     "name": "stdout",
     "output_type": "stream",
     "text": [
      "Using cpu device\n"
     ]
    }
   ],
   "source": [
    "import torch\n",
    "from torch import nn\n",
    "from torch.utils.data import DataLoader\n",
    "from torchvision import datasets\n",
    "from torchvision.transforms import ToTensor, Lambda\n",
    "import matplotlib.pyplot as plt\n",
    "\n",
    "import numpy as np\n",
    "\n",
    "# Get cpu or gpu device for training.\n",
    "device = \"cuda\" if torch.cuda.is_available() else \"cpu\"\n",
    "print(f\"Using {device} device\")\n",
    "\n",
    "training_data = datasets.FashionMNIST(\n",
    "    root=\"data\",\n",
    "    train=True,\n",
    "    download=True,\n",
    "    transform=ToTensor()\n",
    ")\n",
    "\n",
    "training_data, validation_data = torch.utils.data.random_split(training_data, [\n",
    "                                                               50000, 10000])\n",
    "training_data, test_data = torch.utils.data.random_split(training_data, [\n",
    "                                                         40000, 10000])\n",
    "train_dataloader = DataLoader(training_data, batch_size=64)\n",
    "validation_dataloader = DataLoader(validation_data, batch_size=64)\n",
    "test_dataloader = DataLoader(test_data, batch_size=64)\n"
   ]
  },
  {
   "cell_type": "code",
   "execution_count": 2,
   "metadata": {
    "execution": {
     "iopub.execute_input": "2022-03-24T11:14:52.224158Z",
     "iopub.status.busy": "2022-03-24T11:14:52.223953Z",
     "iopub.status.idle": "2022-03-24T11:14:52.579272Z",
     "shell.execute_reply": "2022-03-24T11:14:52.578610Z",
     "shell.execute_reply.started": "2022-03-24T11:14:52.224133Z"
    },
    "trusted": true
   },
   "outputs": [
    {
     "data": {
      "text/plain": "<Figure size 576x576 with 9 Axes>",
      "image/png": "[encoded data removed]"
     },
     "metadata": {
      "needs_background": "light"
     },
     "output_type": "display_data"
    }
   ],
   "source": [
    "labels_map = {\n",
    "    0: \"T-Shirt\",\n",
    "    1: \"Trouser\",\n",
    "    2: \"Pullover\",\n",
    "    3: \"Dress\",\n",
    "    4: \"Coat\",\n",
    "    5: \"Sandal\",\n",
    "    6: \"Shirt\",\n",
    "    7: \"Sneaker\",\n",
    "    8: \"Bag\",\n",
    "    9: \"Ankle Boot\",\n",
    "}\n",
    "figure = plt.figure(figsize=(8, 8))\n",
    "cols, rows = 3, 3\n",
    "for i in range(1, cols * rows + 1):\n",
    "    sample_idx = torch.randint(len(training_data), size=(1,)).item()\n",
    "    img, label = training_data[sample_idx]\n",
    "    figure.add_subplot(rows, cols, i)\n",
    "    plt.title(labels_map[label])\n",
    "    plt.axis(\"off\")\n",
    "    plt.imshow(img.squeeze(), cmap=\"gray\")\n",
    "plt.show()"
   ]
  },
  {
   "cell_type": "code",
   "execution_count": 3,
   "metadata": {
    "execution": {
     "iopub.execute_input": "2022-03-24T11:14:52.581697Z",
     "iopub.status.busy": "2022-03-24T11:14:52.580864Z",
     "iopub.status.idle": "2022-03-24T11:14:52.595968Z",
     "shell.execute_reply": "2022-03-24T11:14:52.595228Z",
     "shell.execute_reply.started": "2022-03-24T11:14:52.581657Z"
    },
    "trusted": true
   },
   "outputs": [
    {
     "name": "stdout",
     "output_type": "stream",
     "text": [
      "NeuralNetwork(\n",
      "  (flatten): Flatten(start_dim=1, end_dim=-1)\n",
      "  (linear_relu_stack): Sequential(\n",
      "    (0): Linear(in_features=784, out_features=512, bias=True)\n",
      "    (1): ReLU()\n",
      "    (2): Linear(in_features=512, out_features=512, bias=True)\n",
      "    (3): ReLU()\n",
      "    (4): Linear(in_features=512, out_features=10, bias=True)\n",
      "  )\n",
      ")\n"
     ]
    }
   ],
   "source": [
    "class NeuralNetwork(nn.Module):\n",
    "    def __init__(self,n_neurons=512,input_dim=28*28,output_dim=10):\n",
    "        super(NeuralNetwork, self).__init__()\n",
    "        self.flatten = nn.Flatten()\n",
    "        self.linear_relu_stack = nn.Sequential(\n",
    "            nn.Linear(input_dim, n_neurons),\n",
    "            nn.ReLU(),\n",
    "            nn.Linear(n_neurons, n_neurons),\n",
    "            nn.ReLU(),\n",
    "            nn.Linear(n_neurons, output_dim),\n",
    "            \n",
    "        )\n",
    "        #self.softmax=nn.Softmax()\n",
    "\n",
    "    def forward(self, x):\n",
    "        x = self.flatten(x)\n",
    "        x = self.linear_relu_stack(x)\n",
    "        #output=self.softmax(x)  Softmax is not needed only because pytorch does this with cross entropy loss automatically\n",
    "        return x\n",
    "\n",
    "model = NeuralNetwork(n_neurons=512)\n",
    "\n",
    "print(model)"
   ]
  },
  {
   "cell_type": "code",
   "execution_count": 4,
   "metadata": {
    "execution": {
     "iopub.execute_input": "2022-03-24T11:14:52.597430Z",
     "iopub.status.busy": "2022-03-24T11:14:52.597202Z",
     "iopub.status.idle": "2022-03-24T11:14:52.602067Z",
     "shell.execute_reply": "2022-03-24T11:14:52.601389Z",
     "shell.execute_reply.started": "2022-03-24T11:14:52.597400Z"
    },
    "trusted": true
   },
   "outputs": [],
   "source": [
    "learning_rate = 1e-3\n",
    "batch_size = 64\n",
    "epochs = 5\n",
    "# Initialize the loss function\n",
    "loss_fn = nn.CrossEntropyLoss()\n",
    "optimizer = torch.optim.SGD(model.parameters(), lr=learning_rate)"
   ]
  },
  {
   "cell_type": "code",
   "execution_count": 5,
   "metadata": {
    "execution": {
     "iopub.execute_input": "2022-03-24T11:14:52.793723Z",
     "iopub.status.busy": "2022-03-24T11:14:52.793230Z",
     "iopub.status.idle": "2022-03-24T11:14:52.810304Z",
     "shell.execute_reply": "2022-03-24T11:14:52.809511Z",
     "shell.execute_reply.started": "2022-03-24T11:14:52.793679Z"
    },
    "trusted": true
   },
   "outputs": [],
   "source": [
    "def fit_one_epoch(dataloader, model, loss_fn, optimizer):\n",
    "    size = len(dataloader.dataset)\n",
    "    for batch, (X, y) in enumerate(dataloader):\n",
    "        # Compute prediction and loss\n",
    "        pred = model(X)\n",
    "        loss = loss_fn(pred, y)\n",
    "\n",
    "        # Backpropagation\n",
    "        optimizer.zero_grad()\n",
    "        loss.backward()\n",
    "        optimizer.step()\n",
    "\n",
    "        if batch % 100 == 0:\n",
    "            loss, current = loss.item(), batch * len(X)\n",
    "            print(f\"loss: {loss}  [{current}/{size}]\")\n",
    "    # if loss > last_loss:\n",
    "    #     trigger_times +=1\n",
    "    #     if trigger_times >= patience:\n",
    "    #         return None\n",
    "    #\n",
    "    # return last_loss\n",
    "\n",
    "\n",
    "\n",
    "def predict_dataset(dataloader, model, loss_fn):\n",
    "    size = len(dataloader.dataset)\n",
    "    num_batches = len(dataloader)\n",
    "    test_loss, correct = 0, 0\n",
    "\n",
    "    with torch.no_grad():\n",
    "        for X, y in dataloader:\n",
    "            pred = model(X)\n",
    "            test_loss += loss_fn(pred, y).item()\n",
    "            correct += (pred.argmax(1) == y).type(torch.float).sum().item()\n",
    "\n",
    "    test_loss /= num_batches\n",
    "    correct /= size\n",
    "    print(f\"Error: \\n Accuracy: {(100*correct)}%, Avg loss: {test_loss} \\n\")\n",
    "    return 100*correct\n",
    "def predict(data,model,apply_softmax=True):\n",
    "    labels=data[1]\n",
    "    label=labels[0] #Take first element of batch\n",
    "    data=data[0]  \n",
    "    data=data[0,:,:,:] #Take first element of batch\n",
    "    print(f\"Size of one sample is {data.size()}\") #First dimension is 1 because image is black & white. Would be 3 for RGB.\n",
    "    pred = model(data)\n",
    "    if apply_softmax:\n",
    "        softmax=nn.Softmax()\n",
    "        pred=softmax(pred)\n",
    "    pred=pred.detach().numpy()\n",
    "    pred=pred[0]\n",
    "    print(f\"Predicted label probabilities for first image: {pred*100}\")\n",
    "    print(f\"True label for first image is {label.numpy()}\")"
   ]
  },
  {
   "cell_type": "code",
   "execution_count": 6,
   "metadata": {
    "execution": {
     "iopub.execute_input": "2022-03-24T11:14:53.077127Z",
     "iopub.status.busy": "2022-03-24T11:14:53.076748Z",
     "iopub.status.idle": "2022-03-24T11:15:22.473891Z",
     "shell.execute_reply": "2022-03-24T11:15:22.473051Z",
     "shell.execute_reply.started": "2022-03-24T11:14:53.077086Z"
    },
    "trusted": true
   },
   "outputs": [
    {
     "name": "stdout",
     "output_type": "stream",
     "text": [
      "Epoch 1\n",
      "-------------------------------\n",
      "loss: 2.3112761974334717  [0/40000]\n",
      "loss: 2.2900967597961426  [6400/40000]\n",
      "loss: 2.273851156234741  [12800/40000]\n",
      "loss: 2.263472080230713  [19200/40000]\n",
      "loss: 2.243558883666992  [25600/40000]\n",
      "loss: 2.2352285385131836  [32000/40000]\n",
      "loss: 2.238295078277588  [38400/40000]\n",
      "Validation results:\n",
      "Error: \n",
      " Accuracy: 39.2%, Avg loss: 2.2203522275207908 \n",
      "\n",
      "Epoch 2\n",
      "-------------------------------\n",
      "loss: 2.2264018058776855  [0/40000]\n",
      "loss: 2.204174757003784  [6400/40000]\n",
      "loss: 2.1839935779571533  [12800/40000]\n",
      "loss: 2.174018621444702  [19200/40000]\n",
      "loss: 2.1505045890808105  [25600/40000]\n",
      "loss: 2.1371521949768066  [32000/40000]\n",
      "loss: 2.1472790241241455  [38400/40000]\n",
      "Validation results:\n",
      "Error: \n",
      " Accuracy: 57.199999999999996%, Avg loss: 2.1097740155116766 \n",
      "\n",
      "Epoch 3\n",
      "-------------------------------\n",
      "loss: 2.111564874649048  [0/40000]\n",
      "loss: 2.0852837562561035  [6400/40000]\n",
      "loss: 2.054124355316162  [12800/40000]\n",
      "loss: 2.0382423400878906  [19200/40000]\n",
      "loss: 1.9984205961227417  [25600/40000]\n",
      "loss: 1.985304832458496  [32000/40000]\n",
      "loss: 1.999476671218872  [38400/40000]\n",
      "Validation results:\n",
      "Error: \n",
      " Accuracy: 61.1%, Avg loss: 1.9293268888619295 \n",
      "\n",
      "Epoch 4\n",
      "-------------------------------\n",
      "loss: 1.9220809936523438  [0/40000]\n",
      "loss: 1.8990449905395508  [6400/40000]\n",
      "loss: 1.8515279293060303  [12800/40000]\n",
      "loss: 1.8255069255828857  [19200/40000]\n",
      "loss: 1.7646138668060303  [25600/40000]\n",
      "loss: 1.7679752111434937  [32000/40000]\n",
      "loss: 1.7933025360107422  [38400/40000]\n",
      "Validation results:\n",
      "Error: \n",
      " Accuracy: 61.370000000000005%, Avg loss: 1.6797825470092191 \n",
      "\n",
      "Epoch 5\n",
      "-------------------------------\n",
      "loss: 1.6576400995254517  [0/40000]\n",
      "loss: 1.6618173122406006  [6400/40000]\n",
      "loss: 1.600876808166504  [12800/40000]\n",
      "loss: 1.577967882156372  [19200/40000]\n",
      "loss: 1.5111514329910278  [25600/40000]\n",
      "loss: 1.5471993684768677  [32000/40000]\n",
      "loss: 1.5879584550857544  [38400/40000]\n",
      "Validation results:\n",
      "Error: \n",
      " Accuracy: 62.23%, Avg loss: 1.4422571469264425 \n",
      "\n",
      "Epoch 6\n",
      "-------------------------------\n",
      "loss: 1.406588077545166  [0/40000]\n",
      "loss: 1.4480479955673218  [6400/40000]\n",
      "loss: 1.3870666027069092  [12800/40000]\n",
      "loss: 1.3780372142791748  [19200/40000]\n",
      "loss: 1.3137032985687256  [25600/40000]\n",
      "loss: 1.3885661363601685  [32000/40000]\n",
      "loss: 1.428861141204834  [38400/40000]\n",
      "Validation results:\n",
      "Error: \n",
      " Accuracy: 63.53%, Avg loss: 1.2657545812570365 \n",
      "\n",
      "early stopping at epoch: 5\n",
      "Test results:\n",
      "Size of one sample is torch.Size([1, 28, 28])\n",
      "Predicted label probabilities for first image: [14.066453  28.096624   4.081237  34.29419    5.6742935  1.607734\n",
      "  6.9760995  1.2130092  2.1582212  1.8321447]\n",
      "True label for first image is 3\n"
     ]
    },
    {
     "name": "stderr",
     "output_type": "stream",
     "text": [
      "/tmp/ipykernel_2270/866174697.py:49: UserWarning: Implicit dimension choice for softmax has been deprecated. Change the call to include dim=X as an argument.\n",
      "  pred=softmax(pred)\n"
     ]
    },
    {
     "name": "stdout",
     "output_type": "stream",
     "text": [
      "Error: \n",
      " Accuracy: 63.949999999999996%, Avg loss: 1.2701720986396643 \n",
      "\n"
     ]
    },
    {
     "data": {
      "text/plain": "63.949999999999996"
     },
     "execution_count": 6,
     "metadata": {},
     "output_type": "execute_result"
    }
   ],
   "source": [
    "# import EarlyStopping\n",
    "# from pytorchtools import EarlyStopping\n",
    "patience = 2\n",
    "best_acc=0\n",
    "count=0\n",
    "epochs = 50\n",
    "# early_stopping = EarlyStopping(patience=patience, verbose=True)\n",
    "for t in range(epochs):\n",
    "    print(f\"Epoch {t+1}\\n-------------------------------\")\n",
    "    fit_one_epoch(train_dataloader, model, loss_fn, optimizer)\n",
    "\n",
    "    print('Validation results:')\n",
    "    val_acc = predict_dataset(validation_dataloader, model, loss_fn)\n",
    "\n",
    "    if val_acc > best_acc and (val_acc-best_acc)>=3:\n",
    "        best_acc = val_acc\n",
    "        # count = 0\n",
    "    else:\n",
    "        count += 1\n",
    "\n",
    "    if count > patience:\n",
    "        print(f'early stopping at epoch: {t}')\n",
    "        break\n",
    "\n",
    "\n",
    "print('Test results:')\n",
    "predict(next(iter(test_dataloader)),model,loss_fn)\n",
    "predict_dataset(test_dataloader, model, loss_fn)"
   ]
  }
 ],
 "metadata": {
  "kernelspec": {
   "display_name": "Python 3",
   "language": "python",
   "name": "python3"
  },
  "language_info": {
   "codemirror_mode": {
    "name": "ipython",
    "version": 3
   },
   "file_extension": ".py",
   "mimetype": "text/x-python",
   "name": "python",
   "nbconvert_exporter": "python",
   "pygments_lexer": "ipython3",
   "version": "3.7.12"
  }
 },
 "nbformat": 4,
 "nbformat_minor": 4
}