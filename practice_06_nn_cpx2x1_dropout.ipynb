{
  "cells": [
    {
      "cell_type": "code",
      "execution_count": 19,
      "metadata": {
        "_cell_guid": "b1076dfc-b9ad-4769-8c92-a6c4dae69d19",
        "_uuid": "8f2839f25d086af736a60e9eeb907d3b93b6e0e5",
        "execution": {
          "iopub.execute_input": "2022-03-24T11:14:52.054314Z",
          "iopub.status.busy": "2022-03-24T11:14:52.053725Z",
          "iopub.status.idle": "2022-03-24T11:14:52.098440Z",
          "shell.execute_reply": "2022-03-24T11:14:52.097607Z",
          "shell.execute_reply.started": "2022-03-24T11:14:52.054278Z"
        },
        "trusted": true,
        "colab": {
          "base_uri": "https://localhost:8080/"
        },
        "id": "Y9Qt-spX8zs9",
        "outputId": "56ebb55a-f2b8-4614-bc57-d8286d097538"
      },
      "outputs": [
        {
          "output_type": "stream",
          "name": "stdout",
          "text": [
            "Using cpu device\n"
          ]
        }
      ],
      "source": [
        "import torch\n",
        "from torch import nn\n",
        "from torch.utils.data import DataLoader\n",
        "from torchvision import datasets\n",
        "from torchvision.transforms import ToTensor, Lambda\n",
        "import matplotlib.pyplot as plt\n",
        "import numpy as np\n",
        "\n",
        "# Get cpu or gpu device for training.\n",
        "device = \"cuda\" if torch.cuda.is_available() else \"cpu\"\n",
        "print(f\"Using {device} device\")\n",
        "\n",
        "training_data = datasets.FashionMNIST(\n",
        "    root=\"data\",\n",
        "    train=True,\n",
        "    download=True,\n",
        "    transform=ToTensor()\n",
        ")\n",
        "\n",
        "training_data, validation_data = torch.utils.data.random_split(training_data, [50000, 10000])\n",
        "training_data, test_data = torch.utils.data.random_split(training_data, [40000, 10000])\n",
        "train_dataloader = DataLoader(training_data, batch_size=64)\n",
        "validation_dataloader = DataLoader(validation_data, batch_size=64)\n",
        "test_dataloader = DataLoader(test_data, batch_size=64)\n"
      ]
    },
    {
      "cell_type": "code",
      "execution_count": 20,
      "metadata": {
        "execution": {
          "iopub.execute_input": "2022-03-24T11:14:52.224158Z",
          "iopub.status.busy": "2022-03-24T11:14:52.223953Z",
          "iopub.status.idle": "2022-03-24T11:14:52.579272Z",
          "shell.execute_reply": "2022-03-24T11:14:52.578610Z",
          "shell.execute_reply.started": "2022-03-24T11:14:52.224133Z"
        },
        "trusted": true,
        "colab": {
          "base_uri": "https://localhost:8080/",
          "height": 482
        },
        "id": "ObfsZm9m8ztA",
        "outputId": "1f7636f0-4a1b-4200-e7b6-ba98372ee0d9"
      },
      "outputs": [
        {
          "output_type": "display_data",
          "data": {
            "text/plain": [
              "<Figure size 576x576 with 9 Axes>"
            ],
            "image/png": "[encoded data removed]"
          },
          "metadata": {
            "needs_background": "light"
          }
        }
      ],
      "source": [
        "labels_map = {\n",
        "    0: \"T-Shirt\",\n",
        "    1: \"Trouser\",\n",
        "    2: \"Pullover\",\n",
        "    3: \"Dress\",\n",
        "    4: \"Coat\",\n",
        "    5: \"Sandal\",\n",
        "    6: \"Shirt\",\n",
        "    7: \"Sneaker\",\n",
        "    8: \"Bag\",\n",
        "    9: \"Ankle Boot\",\n",
        "}\n",
        "figure = plt.figure(figsize=(8, 8))\n",
        "cols, rows = 3, 3\n",
        "for i in range(1, cols * rows + 1):\n",
        "    sample_idx = torch.randint(len(training_data), size=(1,)).item()\n",
        "    img, label = training_data[sample_idx]\n",
        "    figure.add_subplot(rows, cols, i)\n",
        "    plt.title(labels_map[label])\n",
        "    plt.axis(\"off\")\n",
        "    plt.imshow(img.squeeze(), cmap=\"gray\")\n",
        "plt.show()"
      ]
    },
    {
      "cell_type": "code",
      "execution_count": 25,
      "metadata": {
        "execution": {
          "iopub.execute_input": "2022-03-24T11:14:52.581697Z",
          "iopub.status.busy": "2022-03-24T11:14:52.580864Z",
          "iopub.status.idle": "2022-03-24T11:14:52.595968Z",
          "shell.execute_reply": "2022-03-24T11:14:52.595228Z",
          "shell.execute_reply.started": "2022-03-24T11:14:52.581657Z"
        },
        "trusted": true,
        "colab": {
          "base_uri": "https://localhost:8080/"
        },
        "id": "AglIiFjr8ztA",
        "outputId": "708481eb-b33d-4f55-ebbf-d8f84ac8577a"
      },
      "outputs": [
        {
          "output_type": "stream",
          "name": "stdout",
          "text": [
            "NeuralNetwork(\n",
            "  (flatten): Flatten(start_dim=1, end_dim=-1)\n",
            "  (linear_relu_stack): Sequential(\n",
            "    (0): Linear(in_features=784, out_features=512, bias=True)\n",
            "    (1): ReLU()\n",
            "    (2): Dropout(p=0.3, inplace=False)\n",
            "    (3): Linear(in_features=512, out_features=512, bias=True)\n",
            "    (4): ReLU()\n",
            "    (5): Dropout(p=0.3, inplace=False)\n",
            "    (6): Linear(in_features=512, out_features=10, bias=True)\n",
            "  )\n",
            ")\n"
          ]
        }
      ],
      "source": [
        "class NeuralNetwork(nn.Module):\n",
        "    def __init__(self,n_neurons=512,input_dim=28*28,output_dim=10):\n",
        "        super(NeuralNetwork, self).__init__()\n",
        "        self.flatten = nn.Flatten()\n",
        "        self.linear_relu_stack = nn.Sequential(\n",
        "            nn.Linear(input_dim, n_neurons),\n",
        "            nn.ReLU(),\n",
        "            nn.Dropout(p=0.3),\n",
        "            nn.Linear(n_neurons, n_neurons),\n",
        "            nn.ReLU(),\n",
        "            nn.Dropout(p=0.3),\n",
        "            nn.Linear(n_neurons, output_dim),\n",
        "            \n",
        "        )\n",
        "        #self.softmax=nn.Softmax()\n",
        "\n",
        "    def forward(self, x):\n",
        "        x = self.flatten(x)\n",
        "        x = self.linear_relu_stack(x)\n",
        "        #output=self.softmax(x)  Softmax is not needed only because pytorch does this with cross entropy loss automatically\n",
        "        return x\n",
        "\n",
        "model = NeuralNetwork(n_neurons=512)\n",
        "print(model)"
      ]
    },
    {
      "cell_type": "code",
      "execution_count": 26,
      "metadata": {
        "execution": {
          "iopub.execute_input": "2022-03-24T11:14:52.597430Z",
          "iopub.status.busy": "2022-03-24T11:14:52.597202Z",
          "iopub.status.idle": "2022-03-24T11:14:52.602067Z",
          "shell.execute_reply": "2022-03-24T11:14:52.601389Z",
          "shell.execute_reply.started": "2022-03-24T11:14:52.597400Z"
        },
        "trusted": true,
        "id": "CKGxAE2c8ztB"
      },
      "outputs": [],
      "source": [
        "learning_rate = 1e-3\n",
        "batch_size = 64\n",
        "epochs = 10\n",
        "# Initialize the loss function\n",
        "loss_fn = nn.CrossEntropyLoss()\n",
        "optimizer = torch.optim.SGD(model.parameters(), lr=learning_rate)"
      ]
    },
    {
      "cell_type": "code",
      "execution_count": 27,
      "metadata": {
        "execution": {
          "iopub.execute_input": "2022-03-24T11:14:52.793723Z",
          "iopub.status.busy": "2022-03-24T11:14:52.793230Z",
          "iopub.status.idle": "2022-03-24T11:14:52.810304Z",
          "shell.execute_reply": "2022-03-24T11:14:52.809511Z",
          "shell.execute_reply.started": "2022-03-24T11:14:52.793679Z"
        },
        "trusted": true,
        "id": "Cc4q5OL38ztB"
      },
      "outputs": [],
      "source": [
        "def fit_one_epoch(dataloader, model, loss_fn, optimizer):\n",
        "    size = len(dataloader.dataset)\n",
        "    for batch, (X, y) in enumerate(dataloader):\n",
        "        # Compute prediction and loss\n",
        "        pred = model(X)\n",
        "        loss = loss_fn(pred, y)\n",
        "\n",
        "        # Backpropagation\n",
        "        optimizer.zero_grad()\n",
        "        loss.backward()\n",
        "        optimizer.step()\n",
        "\n",
        "        if batch % 100 == 0:\n",
        "            loss, current = loss.item(), batch * len(X)\n",
        "            #print(f\"loss: {loss}  [{current}/{size}]\")\n",
        "\n",
        "\n",
        "def predict_dataset(dataloader, model, loss_fn):\n",
        "    size = len(dataloader.dataset)\n",
        "    num_batches = len(dataloader)\n",
        "    test_loss, correct = 0, 0\n",
        "\n",
        "    with torch.no_grad():\n",
        "        for X, y in dataloader:\n",
        "            pred = model(X)\n",
        "            test_loss += loss_fn(pred, y).item()\n",
        "            correct += (pred.argmax(1) == y).type(torch.float).sum().item()\n",
        "\n",
        "    test_loss /= num_batches\n",
        "    correct /= size\n",
        "    print(f\"Error: \\n Accuracy: {(100*correct)}%, Avg loss: {test_loss} \\n\")\n",
        "def predict(data,model,apply_softmax=True):\n",
        "    labels=data[1]\n",
        "    label=labels[0] #Take first element of batch\n",
        "    data=data[0]  \n",
        "    data=data[0,:,:,:] #Take first element of batch\n",
        "    print(f\"Size of one sample is {data.size()}\") #First dimension is 1 because image is black & white. Would be 3 for RGB.\n",
        "    pred = model(data)\n",
        "    if apply_softmax:\n",
        "        softmax=nn.Softmax()\n",
        "        pred=softmax(pred)\n",
        "    pred=pred.detach().numpy()\n",
        "    pred=pred[0]\n",
        "    print(f\"Predicted label probabilities for first image: {pred*100}\")\n",
        "    print(f\"True label for first image is {label.numpy()}\")"
      ]
    },
    {
      "cell_type": "code",
      "execution_count": 28,
      "metadata": {
        "execution": {
          "iopub.execute_input": "2022-03-24T11:14:53.077127Z",
          "iopub.status.busy": "2022-03-24T11:14:53.076748Z",
          "iopub.status.idle": "2022-03-24T11:15:22.473891Z",
          "shell.execute_reply": "2022-03-24T11:15:22.473051Z",
          "shell.execute_reply.started": "2022-03-24T11:14:53.077086Z"
        },
        "trusted": true,
        "colab": {
          "base_uri": "https://localhost:8080/"
        },
        "id": "9q8Y4f8n8ztC",
        "outputId": "0ace552f-d730-4d70-9899-a5b6b9632c34"
      },
      "outputs": [
        {
          "output_type": "stream",
          "name": "stdout",
          "text": [
            "Epoch 1\n",
            "-------------------------------\n",
            "Validation results:\n",
            "Error: \n",
            " Accuracy: 31.52%, Avg loss: 2.2218395843627348 \n",
            "\n",
            "Epoch 2\n",
            "-------------------------------\n",
            "Validation results:\n",
            "Error: \n",
            " Accuracy: 38.68%, Avg loss: 2.114220124141426 \n",
            "\n",
            "Epoch 3\n",
            "-------------------------------\n",
            "Validation results:\n",
            "Error: \n",
            " Accuracy: 46.29%, Avg loss: 1.9461871074263457 \n",
            "\n",
            "Epoch 4\n",
            "-------------------------------\n",
            "Validation results:\n",
            "Error: \n",
            " Accuracy: 51.690000000000005%, Avg loss: 1.7210367766155559 \n",
            "\n",
            "Epoch 5\n",
            "-------------------------------\n",
            "Validation results:\n",
            "Error: \n",
            " Accuracy: 55.55%, Avg loss: 1.5050070764152867 \n",
            "\n",
            "Epoch 6\n",
            "-------------------------------\n",
            "Validation results:\n",
            "Error: \n",
            " Accuracy: 57.95%, Avg loss: 1.3441213900875892 \n",
            "\n",
            "Epoch 7\n",
            "-------------------------------\n",
            "Validation results:\n",
            "Error: \n",
            " Accuracy: 60.57%, Avg loss: 1.2152859116815458 \n",
            "\n",
            "Epoch 8\n",
            "-------------------------------\n",
            "Validation results:\n",
            "Error: \n",
            " Accuracy: 61.6%, Avg loss: 1.1258321886609315 \n",
            "\n",
            "Epoch 9\n",
            "-------------------------------\n",
            "Validation results:\n",
            "Error: \n",
            " Accuracy: 62.93%, Avg loss: 1.0560970921425303 \n",
            "\n",
            "Epoch 10\n",
            "-------------------------------\n",
            "Validation results:\n",
            "Error: \n",
            " Accuracy: 64.29%, Avg loss: 1.0034561168615985 \n",
            "\n",
            "Test results:\n",
            "Size of one sample is torch.Size([1, 28, 28])\n",
            "Predicted label probabilities for first image: [1.23604107e+01 2.91229477e+01 6.07575595e-01 5.26928787e+01\n",
            " 1.99547446e+00 3.10156923e-02 3.08151793e+00 1.17907245e-02\n",
            " 8.44461545e-02 1.19302785e-02]\n",
            "True label for first image is 3\n"
          ]
        },
        {
          "output_type": "stream",
          "name": "stderr",
          "text": [
            "/usr/local/lib/python3.7/dist-packages/ipykernel_launcher.py:41: UserWarning: Implicit dimension choice for softmax has been deprecated. Change the call to include dim=X as an argument.\n"
          ]
        },
        {
          "output_type": "stream",
          "name": "stdout",
          "text": [
            "Error: \n",
            " Accuracy: 64.24%, Avg loss: 0.9993517827835812 \n",
            "\n"
          ]
        }
      ],
      "source": [
        "\n",
        "for t in range(epochs):\n",
        "    print(f\"Epoch {t+1}\\n-------------------------------\")\n",
        "    fit_one_epoch(train_dataloader, model, loss_fn, optimizer)\n",
        "    print('Validation results:')\n",
        "    predict_dataset(validation_dataloader, model, loss_fn)\n",
        "print('Test results:')\n",
        "predict(next(iter(test_dataloader)),model,loss_fn)\n",
        "predict_dataset(test_dataloader, model, loss_fn)"
      ]
    },
    {
      "cell_type": "markdown",
      "source": [
        "* Compared to no dropout layer (Epoch 10: 67.66%) it get worse validation accuracy (Epoch 10: 64.29%) with dropout layers."
      ],
      "metadata": {
        "id": "pPP04zTL-XxT"
      }
    }
  ],
  "metadata": {
    "kernelspec": {
      "display_name": "Python 3",
      "language": "python",
      "name": "python3"
    },
    "language_info": {
      "codemirror_mode": {
        "name": "ipython",
        "version": 3
      },
      "file_extension": ".py",
      "mimetype": "text/x-python",
      "name": "python",
      "nbconvert_exporter": "python",
      "pygments_lexer": "ipython3",
      "version": "3.7.12"
    },
    "colab": {
      "name": "practice-06-nn-cpx2x1-dropout.ipynb",
      "provenance": []
    }
  },
  "nbformat": 4,
  "nbformat_minor": 0
}