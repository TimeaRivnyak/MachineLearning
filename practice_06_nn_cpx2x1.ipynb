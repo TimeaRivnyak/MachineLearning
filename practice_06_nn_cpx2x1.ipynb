{
  "cells": [
    {
      "cell_type": "code",
      "execution_count": 22,
      "metadata": {
        "_cell_guid": "b1076dfc-b9ad-4769-8c92-a6c4dae69d19",
        "_uuid": "8f2839f25d086af736a60e9eeb907d3b93b6e0e5",
        "execution": {
          "iopub.execute_input": "2022-03-24T11:14:52.054314Z",
          "iopub.status.busy": "2022-03-24T11:14:52.053725Z",
          "iopub.status.idle": "2022-03-24T11:14:52.098440Z",
          "shell.execute_reply": "2022-03-24T11:14:52.097607Z",
          "shell.execute_reply.started": "2022-03-24T11:14:52.054278Z"
        },
        "trusted": true,
        "colab": {
          "base_uri": "https://localhost:8080/"
        },
        "id": "Lt78tDi7pWFI",
        "outputId": "011a6f0a-7553-43d7-cb54-af170d299fde"
      },
      "outputs": [
        {
          "output_type": "stream",
          "name": "stdout",
          "text": [
            "Using cpu device\n"
          ]
        }
      ],
      "source": [
        "import torch\n",
        "from torch import nn\n",
        "from torch.utils.data import DataLoader\n",
        "from torchvision import datasets\n",
        "from torchvision.transforms import ToTensor, Lambda\n",
        "import matplotlib.pyplot as plt\n",
        "import numpy as np\n",
        "\n",
        "# Get cpu or gpu device for training.\n",
        "device = \"cuda\" if torch.cuda.is_available() else \"cpu\"\n",
        "print(f\"Using {device} device\")\n",
        "\n",
        "training_data = datasets.FashionMNIST(\n",
        "    root=\"data\",\n",
        "    train=True,\n",
        "    download=True,\n",
        "    transform=ToTensor()\n",
        ")\n",
        "\n",
        "training_data, validation_data = torch.utils.data.random_split(training_data, [50000, 10000])\n",
        "training_data, test_data = torch.utils.data.random_split(training_data, [40000, 10000])\n",
        "train_dataloader = DataLoader(training_data, batch_size=64)\n",
        "validation_dataloader = DataLoader(validation_data, batch_size=64)\n",
        "test_dataloader = DataLoader(test_data, batch_size=64)\n"
      ]
    },
    {
      "cell_type": "code",
      "execution_count": 23,
      "metadata": {
        "execution": {
          "iopub.execute_input": "2022-03-24T11:14:52.224158Z",
          "iopub.status.busy": "2022-03-24T11:14:52.223953Z",
          "iopub.status.idle": "2022-03-24T11:14:52.579272Z",
          "shell.execute_reply": "2022-03-24T11:14:52.578610Z",
          "shell.execute_reply.started": "2022-03-24T11:14:52.224133Z"
        },
        "trusted": true,
        "colab": {
          "base_uri": "https://localhost:8080/",
          "height": 482
        },
        "id": "mzULaNf4pWFO",
        "outputId": "7bb8a433-7349-474e-b5d5-1003e3964120"
      },
      "outputs": [
        {
          "output_type": "display_data",
          "data": {
            "text/plain": [
              "<Figure size 576x576 with 9 Axes>"
            ],
            "image/png": "[encoded data removed]"
          },
          "metadata": {
            "needs_background": "light"
          }
        }
      ],
      "source": [
        "labels_map = {\n",
        "    0: \"T-Shirt\",\n",
        "    1: \"Trouser\",\n",
        "    2: \"Pullover\",\n",
        "    3: \"Dress\",\n",
        "    4: \"Coat\",\n",
        "    5: \"Sandal\",\n",
        "    6: \"Shirt\",\n",
        "    7: \"Sneaker\",\n",
        "    8: \"Bag\",\n",
        "    9: \"Ankle Boot\",\n",
        "}\n",
        "figure = plt.figure(figsize=(8, 8))\n",
        "cols, rows = 3, 3\n",
        "for i in range(1, cols * rows + 1):\n",
        "    sample_idx = torch.randint(len(training_data), size=(1,)).item()\n",
        "    img, label = training_data[sample_idx]\n",
        "    figure.add_subplot(rows, cols, i)\n",
        "    plt.title(labels_map[label])\n",
        "    plt.axis(\"off\")\n",
        "    plt.imshow(img.squeeze(), cmap=\"gray\")\n",
        "plt.show()"
      ]
    },
    {
      "cell_type": "code",
      "execution_count": 24,
      "metadata": {
        "execution": {
          "iopub.execute_input": "2022-03-24T11:14:52.581697Z",
          "iopub.status.busy": "2022-03-24T11:14:52.580864Z",
          "iopub.status.idle": "2022-03-24T11:14:52.595968Z",
          "shell.execute_reply": "2022-03-24T11:14:52.595228Z",
          "shell.execute_reply.started": "2022-03-24T11:14:52.581657Z"
        },
        "trusted": true,
        "id": "TCH67olapWFP"
      },
      "outputs": [],
      "source": [
        "class NeuralNetwork(nn.Module):\n",
        "    def __init__(self,n_neurons=512,input_dim=28*28,output_dim=10):\n",
        "        super(NeuralNetwork, self).__init__()\n",
        "        self.flatten = nn.Flatten()\n",
        "        self.linear_relu_stack = nn.Sequential(\n",
        "            nn.Linear(input_dim, n_neurons),\n",
        "            nn.ReLU(),\n",
        "            nn.Linear(n_neurons, n_neurons),\n",
        "            nn.ReLU(),\n",
        "            nn.Linear(n_neurons, output_dim),\n",
        "            \n",
        "        )\n",
        "        #self.softmax=nn.Softmax()\n",
        "\n",
        "    def forward(self, x):\n",
        "        x = self.flatten(x)\n",
        "        x = self.linear_relu_stack(x)\n",
        "        #output=self.softmax(x)  Softmax is not needed only because pytorch does this with cross entropy loss automatically\n",
        "        return x\n"
      ]
    },
    {
      "cell_type": "code",
      "execution_count": 25,
      "metadata": {
        "execution": {
          "iopub.execute_input": "2022-03-24T11:14:52.597430Z",
          "iopub.status.busy": "2022-03-24T11:14:52.597202Z",
          "iopub.status.idle": "2022-03-24T11:14:52.602067Z",
          "shell.execute_reply": "2022-03-24T11:14:52.601389Z",
          "shell.execute_reply.started": "2022-03-24T11:14:52.597400Z"
        },
        "trusted": true,
        "id": "0SR5gdbypWFQ"
      },
      "outputs": [],
      "source": [
        "learning_rate = 1e-3\n",
        "batch_size = 64\n",
        "epochs = 5\n",
        "# Initialize the loss function\n",
        "loss_fn = nn.CrossEntropyLoss()"
      ]
    },
    {
      "cell_type": "code",
      "execution_count": 26,
      "metadata": {
        "execution": {
          "iopub.execute_input": "2022-03-24T11:14:52.793723Z",
          "iopub.status.busy": "2022-03-24T11:14:52.793230Z",
          "iopub.status.idle": "2022-03-24T11:14:52.810304Z",
          "shell.execute_reply": "2022-03-24T11:14:52.809511Z",
          "shell.execute_reply.started": "2022-03-24T11:14:52.793679Z"
        },
        "trusted": true,
        "id": "uXhrmbwWpWFS"
      },
      "outputs": [],
      "source": [
        "def fit_one_epoch(dataloader, model, loss_fn, optimizer):\n",
        "    size = len(dataloader.dataset)\n",
        "    for batch, (X, y) in enumerate(dataloader):\n",
        "        # Compute prediction and loss\n",
        "        pred = model(X)\n",
        "        loss = loss_fn(pred, y)\n",
        "\n",
        "        # Backpropagation\n",
        "        optimizer.zero_grad()\n",
        "        loss.backward()\n",
        "        optimizer.step()\n",
        "\n",
        "        if batch % 100 == 0:\n",
        "            loss, current = loss.item(), batch * len(X)\n",
        "            #print(f\"loss: {loss}  [{current}/{size}]\")\n",
        "\n",
        "\n",
        "def predict_dataset(dataloader, model, loss_fn):\n",
        "    size = len(dataloader.dataset)\n",
        "    num_batches = len(dataloader)\n",
        "    test_loss, correct = 0, 0\n",
        "\n",
        "    with torch.no_grad():\n",
        "        for X, y in dataloader:\n",
        "            pred = model(X)\n",
        "            test_loss += loss_fn(pred, y).item()\n",
        "            correct += (pred.argmax(1) == y).type(torch.float).sum().item()\n",
        "\n",
        "    test_loss /= num_batches\n",
        "    correct /= size\n",
        "    print(f\"Error: \\n Accuracy: {(100*correct)}%, Avg loss: {test_loss} \\n\")\n",
        "def predict(data,model,apply_softmax=True):\n",
        "    labels=data[1]\n",
        "    label=labels[0] #Take first element of batch\n",
        "    data=data[0]  \n",
        "    data=data[0,:,:,:] #Take first element of batch\n",
        "    print(f\"Size of one sample is {data.size()}\") #First dimension is 1 because image is black & white. Would be 3 for RGB.\n",
        "    pred = model(data)\n",
        "    if apply_softmax:\n",
        "        softmax=nn.Softmax()\n",
        "        pred=softmax(pred)\n",
        "    pred=pred.detach().numpy()\n",
        "    pred=pred[0]\n",
        "    print(f\"Predicted label probabilities for first image: {pred*100}\")\n",
        "    print(f\"True label for first image is {label.numpy()}\")"
      ]
    },
    {
      "cell_type": "code",
      "execution_count": 27,
      "metadata": {
        "execution": {
          "iopub.execute_input": "2022-03-24T11:14:53.077127Z",
          "iopub.status.busy": "2022-03-24T11:14:53.076748Z",
          "iopub.status.idle": "2022-03-24T11:15:22.473891Z",
          "shell.execute_reply": "2022-03-24T11:15:22.473051Z",
          "shell.execute_reply.started": "2022-03-24T11:14:53.077086Z"
        },
        "trusted": true,
        "colab": {
          "base_uri": "https://localhost:8080/"
        },
        "id": "SEi-n5AxpWFT",
        "outputId": "247bb49f-679f-42d9-86b8-08092ac6fa1c"
      },
      "outputs": [
        {
          "output_type": "stream",
          "name": "stdout",
          "text": [
            "Weight decay: 0\n",
            "Epoch 1\n",
            "-------------------------------\n",
            "Validation results:\n",
            "Error: \n",
            " Accuracy: 32.879999999999995%, Avg loss: 2.2156942346293453 \n",
            "\n",
            "Epoch 2\n",
            "-------------------------------\n",
            "Validation results:\n",
            "Error: \n",
            " Accuracy: 50.83%, Avg loss: 2.094396486403836 \n",
            "\n",
            "Epoch 3\n",
            "-------------------------------\n",
            "Validation results:\n",
            "Error: \n",
            " Accuracy: 55.669999999999995%, Avg loss: 1.9088207976833271 \n",
            "\n",
            "Epoch 4\n",
            "-------------------------------\n",
            "Validation results:\n",
            "Error: \n",
            " Accuracy: 57.769999999999996%, Avg loss: 1.6603427411644323 \n",
            "\n",
            "Epoch 5\n",
            "-------------------------------\n",
            "Validation results:\n",
            "Error: \n",
            " Accuracy: 62.33%, Avg loss: 1.4274982464541295 \n",
            "\n",
            "Test results:\n",
            "Size of one sample is torch.Size([1, 28, 28])\n",
            "Predicted label probabilities for first image: [ 0.8462796  0.5890518  2.1255472  0.8819457  1.8637166  9.4939575\n",
            "  1.8733008 15.963852  12.681206  53.68114  ]\n",
            "True label for first image is 9\n"
          ]
        },
        {
          "output_type": "stream",
          "name": "stderr",
          "text": [
            "/usr/local/lib/python3.7/dist-packages/ipykernel_launcher.py:41: UserWarning: Implicit dimension choice for softmax has been deprecated. Change the call to include dim=X as an argument.\n"
          ]
        },
        {
          "output_type": "stream",
          "name": "stdout",
          "text": [
            "Error: \n",
            " Accuracy: 62.81%, Avg loss: 1.427103820879748 \n",
            "\n",
            "Weight decay: 1e-06\n",
            "Epoch 1\n",
            "-------------------------------\n",
            "Validation results:\n",
            "Error: \n",
            " Accuracy: 38.46%, Avg loss: 2.216551685029534 \n",
            "\n",
            "Epoch 2\n",
            "-------------------------------\n",
            "Validation results:\n",
            "Error: \n",
            " Accuracy: 50.41%, Avg loss: 2.089153467469914 \n",
            "\n",
            "Epoch 3\n",
            "-------------------------------\n",
            "Validation results:\n",
            "Error: \n",
            " Accuracy: 59.99%, Avg loss: 1.8846796614349268 \n",
            "\n",
            "Epoch 4\n",
            "-------------------------------\n",
            "Validation results:\n",
            "Error: \n",
            " Accuracy: 62.0%, Avg loss: 1.6282883715477718 \n",
            "\n",
            "Epoch 5\n",
            "-------------------------------\n",
            "Validation results:\n",
            "Error: \n",
            " Accuracy: 62.23%, Avg loss: 1.4082372089859787 \n",
            "\n",
            "Test results:\n",
            "Size of one sample is torch.Size([1, 28, 28])\n",
            "Predicted label probabilities for first image: [ 0.55219567  0.34716815  1.7297076   0.45019072  1.4327466   9.409105\n",
            "  1.3938761  15.446384   13.328585   55.910034  ]\n",
            "True label for first image is 9\n",
            "Error: \n",
            " Accuracy: 62.99%, Avg loss: 1.4066739241788342 \n",
            "\n",
            "Weight decay: 0.0001\n",
            "Epoch 1\n",
            "-------------------------------\n",
            "Validation results:\n",
            "Error: \n",
            " Accuracy: 38.769999999999996%, Avg loss: 2.2058421441703846 \n",
            "\n",
            "Epoch 2\n",
            "-------------------------------\n",
            "Validation results:\n",
            "Error: \n",
            " Accuracy: 55.620000000000005%, Avg loss: 2.0737187179030885 \n",
            "\n",
            "Epoch 3\n",
            "-------------------------------\n",
            "Validation results:\n",
            "Error: \n",
            " Accuracy: 60.980000000000004%, Avg loss: 1.8694783304906955 \n",
            "\n",
            "Epoch 4\n",
            "-------------------------------\n",
            "Validation results:\n",
            "Error: \n",
            " Accuracy: 61.96%, Avg loss: 1.6149428756373703 \n",
            "\n",
            "Epoch 5\n",
            "-------------------------------\n",
            "Validation results:\n",
            "Error: \n",
            " Accuracy: 63.3%, Avg loss: 1.3945792974180478 \n",
            "\n",
            "Test results:\n",
            "Size of one sample is torch.Size([1, 28, 28])\n",
            "Predicted label probabilities for first image: [ 0.90342     0.46517915  2.2412891   0.66717577  1.9770424   9.432754\n",
            "  1.9114014  13.996933   14.298381   54.106426  ]\n",
            "True label for first image is 9\n",
            "Error: \n",
            " Accuracy: 63.68000000000001%, Avg loss: 1.3934101580054896 \n",
            "\n",
            "Weight decay: 0.1\n",
            "Epoch 1\n",
            "-------------------------------\n",
            "Validation results:\n",
            "Error: \n",
            " Accuracy: 30.919999999999998%, Avg loss: 2.2262417283027793 \n",
            "\n",
            "Epoch 2\n",
            "-------------------------------\n",
            "Validation results:\n",
            "Error: \n",
            " Accuracy: 42.89%, Avg loss: 2.1548425452724382 \n",
            "\n",
            "Epoch 3\n",
            "-------------------------------\n",
            "Validation results:\n",
            "Error: \n",
            " Accuracy: 48.69%, Avg loss: 2.0644079378456066 \n",
            "\n",
            "Epoch 4\n",
            "-------------------------------\n",
            "Validation results:\n",
            "Error: \n",
            " Accuracy: 53.82%, Avg loss: 1.943291815223208 \n",
            "\n",
            "Epoch 5\n",
            "-------------------------------\n",
            "Validation results:\n",
            "Error: \n",
            " Accuracy: 53.349999999999994%, Avg loss: 1.7995472652896953 \n",
            "\n",
            "Test results:\n",
            "Size of one sample is torch.Size([1, 28, 28])\n",
            "Predicted label probabilities for first image: [ 3.5078895  2.4441447  7.0070453  3.1172616  6.405814   9.357377\n",
            "  5.832168  13.484504  18.892649  29.951159 ]\n",
            "True label for first image is 9\n",
            "Error: \n",
            " Accuracy: 53.83%, Avg loss: 1.798088527029487 \n",
            "\n"
          ]
        }
      ],
      "source": [
        "weight_decays = [0,0.000001,0.0001,0.1]\n",
        "for weight_d in weight_decays:\n",
        "  print(f\"Weight decay: {weight_d}\")\n",
        "  model = NeuralNetwork(n_neurons=512)\n",
        "  optimizer = torch.optim.SGD(model.parameters(), lr=learning_rate, weight_decay=weight_d)\n",
        "  for t in range(epochs):\n",
        "      print(f\"Epoch {t+1}\\n-------------------------------\")\n",
        "      fit_one_epoch(train_dataloader, model, loss_fn, optimizer)\n",
        "      print('Validation results:')\n",
        "      predict_dataset(validation_dataloader, model, loss_fn)\n",
        "  print('Test results:')\n",
        "  predict(next(iter(test_dataloader)),model,loss_fn)\n",
        "  predict_dataset(test_dataloader, model, loss_fn)"
      ]
    },
    {
      "cell_type": "markdown",
      "source": [
        "* Conclusion: Using weight decay 0.0001 improved accuracy compared to no weight decay, however the others performed worse."
      ],
      "metadata": {
        "id": "7uujT3dY9Tux"
      }
    }
  ],
  "metadata": {
    "kernelspec": {
      "display_name": "Python 3",
      "language": "python",
      "name": "python3"
    },
    "language_info": {
      "codemirror_mode": {
        "name": "ipython",
        "version": 3
      },
      "file_extension": ".py",
      "mimetype": "text/x-python",
      "name": "python",
      "nbconvert_exporter": "python",
      "pygments_lexer": "ipython3",
      "version": "3.7.12"
    },
    "colab": {
      "name": "practice-06-nn-cpx2x1.ipynb",
      "provenance": []
    }
  },
  "nbformat": 4,
  "nbformat_minor": 0
}