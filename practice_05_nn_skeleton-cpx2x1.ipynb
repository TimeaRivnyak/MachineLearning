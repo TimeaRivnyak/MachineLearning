{
  "cells": [
    {
      "cell_type": "code",
      "execution_count": 48,
      "metadata": {
        "_cell_guid": "b1076dfc-b9ad-4769-8c92-a6c4dae69d19",
        "_uuid": "8f2839f25d086af736a60e9eeb907d3b93b6e0e5",
        "execution": {
          "iopub.execute_input": "2022-03-24T11:14:52.054314Z",
          "iopub.status.busy": "2022-03-24T11:14:52.053725Z",
          "iopub.status.idle": "2022-03-24T11:14:52.098440Z",
          "shell.execute_reply": "2022-03-24T11:14:52.097607Z",
          "shell.execute_reply.started": "2022-03-24T11:14:52.054278Z"
        },
        "trusted": true,
        "colab": {
          "base_uri": "https://localhost:8080/"
        },
        "id": "yAe1cCbWCx7U",
        "outputId": "f3d6a291-b2c3-4dab-bdec-21ef8b39ea19"
      },
      "outputs": [
        {
          "output_type": "stream",
          "name": "stdout",
          "text": [
            "Using cpu device\n"
          ]
        }
      ],
      "source": [
        "import torch\n",
        "from torch import nn\n",
        "from torch.utils.data import DataLoader\n",
        "from torchvision import datasets\n",
        "from torchvision.transforms import ToTensor, Lambda\n",
        "import matplotlib.pyplot as plt\n",
        "import numpy as np\n",
        "\n",
        "# Get cpu or gpu device for training.\n",
        "device = \"cuda\" if torch.cuda.is_available() else \"cpu\"\n",
        "print(f\"Using {device} device\")\n",
        "\n",
        "training_data = datasets.FashionMNIST(\n",
        "    root=\"data\",\n",
        "    train=True,\n",
        "    download=True,\n",
        "    transform=ToTensor()\n",
        ")\n",
        "\n",
        "training_data, validation_data = torch.utils.data.random_split(training_data, [50000, 10000])\n",
        "training_data, test_data = torch.utils.data.random_split(training_data, [40000, 10000])\n",
        "train_dataloader = DataLoader(training_data, batch_size=64)\n",
        "validation_dataloader = DataLoader(validation_data, batch_size=64)\n",
        "test_dataloader = DataLoader(test_data, batch_size=64)\n"
      ]
    },
    {
      "cell_type": "code",
      "execution_count": 49,
      "metadata": {
        "execution": {
          "iopub.execute_input": "2022-03-24T11:14:52.224158Z",
          "iopub.status.busy": "2022-03-24T11:14:52.223953Z",
          "iopub.status.idle": "2022-03-24T11:14:52.579272Z",
          "shell.execute_reply": "2022-03-24T11:14:52.578610Z",
          "shell.execute_reply.started": "2022-03-24T11:14:52.224133Z"
        },
        "trusted": true,
        "colab": {
          "base_uri": "https://localhost:8080/",
          "height": 482
        },
        "id": "7T2wUx4UCx7i",
        "outputId": "6ab8ad6c-5f99-4568-e851-f0f179a05c74"
      },
      "outputs": [
        {
          "output_type": "display_data",
          "data": {
            "text/plain": [
              "<Figure size 576x576 with 9 Axes>"
            ],
            "image/png": "[encoded data removed]"
          },
          "metadata": {
            "needs_background": "light"
          }
        }
      ],
      "source": [
        "labels_map = {\n",
        "    0: \"T-Shirt\",\n",
        "    1: \"Trouser\",\n",
        "    2: \"Pullover\",\n",
        "    3: \"Dress\",\n",
        "    4: \"Coat\",\n",
        "    5: \"Sandal\",\n",
        "    6: \"Shirt\",\n",
        "    7: \"Sneaker\",\n",
        "    8: \"Bag\",\n",
        "    9: \"Ankle Boot\",\n",
        "}\n",
        "figure = plt.figure(figsize=(8, 8))\n",
        "cols, rows = 3, 3\n",
        "for i in range(1, cols * rows + 1):\n",
        "    sample_idx = torch.randint(len(training_data), size=(1,)).item()\n",
        "    img, label = training_data[sample_idx]\n",
        "    figure.add_subplot(rows, cols, i)\n",
        "    plt.title(labels_map[label])\n",
        "    plt.axis(\"off\")\n",
        "    plt.imshow(img.squeeze(), cmap=\"gray\")\n",
        "plt.show()"
      ]
    },
    {
      "cell_type": "code",
      "execution_count": 50,
      "metadata": {
        "execution": {
          "iopub.execute_input": "2022-03-24T11:14:52.581697Z",
          "iopub.status.busy": "2022-03-24T11:14:52.580864Z",
          "iopub.status.idle": "2022-03-24T11:14:52.595968Z",
          "shell.execute_reply": "2022-03-24T11:14:52.595228Z",
          "shell.execute_reply.started": "2022-03-24T11:14:52.581657Z"
        },
        "trusted": true,
        "colab": {
          "base_uri": "https://localhost:8080/"
        },
        "id": "NsOsyHm3Cx7l",
        "outputId": "ec2cbcd5-3b57-469c-cc9d-df40cd701599"
      },
      "outputs": [
        {
          "output_type": "stream",
          "name": "stdout",
          "text": [
            "NeuralNetwork(\n",
            "  (flatten): Flatten(start_dim=1, end_dim=-1)\n",
            "  (linear_relu_stack): Sequential(\n",
            "    (0): Linear(in_features=784, out_features=512, bias=True)\n",
            "    (1): ReLU()\n",
            "    (2): Linear(in_features=512, out_features=512, bias=True)\n",
            "    (3): ReLU()\n",
            "    (4): Linear(in_features=512, out_features=10, bias=True)\n",
            "  )\n",
            ")\n"
          ]
        }
      ],
      "source": [
        "class NeuralNetwork(nn.Module):\n",
        "    def __init__(self,n_neurons=512,input_dim=28*28,output_dim=10):\n",
        "        super(NeuralNetwork, self).__init__()\n",
        "        self.flatten = nn.Flatten()\n",
        "        self.linear_relu_stack = nn.Sequential(\n",
        "            nn.Linear(input_dim, n_neurons),\n",
        "            nn.ReLU(),\n",
        "            nn.Linear(n_neurons, n_neurons),\n",
        "            nn.ReLU(),\n",
        "            nn.Linear(n_neurons, output_dim),\n",
        "            \n",
        "        )\n",
        "        #self.softmax=nn.Softmax()\n",
        "\n",
        "    def forward(self, x):\n",
        "        x = self.flatten(x)\n",
        "        x = self.linear_relu_stack(x)\n",
        "        #output=self.softmax(x)  Softmax is not needed only because pytorch does this with cross entropy loss automatically\n",
        "        return x\n",
        "\n",
        "model = NeuralNetwork(n_neurons=512)\n",
        "print(model)"
      ]
    },
    {
      "cell_type": "code",
      "execution_count": 51,
      "metadata": {
        "execution": {
          "iopub.execute_input": "2022-03-24T11:14:52.597430Z",
          "iopub.status.busy": "2022-03-24T11:14:52.597202Z",
          "iopub.status.idle": "2022-03-24T11:14:52.602067Z",
          "shell.execute_reply": "2022-03-24T11:14:52.601389Z",
          "shell.execute_reply.started": "2022-03-24T11:14:52.597400Z"
        },
        "trusted": true,
        "id": "DDTLL1glCx7o"
      },
      "outputs": [],
      "source": [
        "learning_rate = 1e-3\n",
        "batch_size = 64\n",
        "epochs = 500\n",
        "# Initialize the loss function\n",
        "loss_fn = nn.CrossEntropyLoss()\n",
        "optimizer = torch.optim.SGD(model.parameters(), lr=learning_rate)"
      ]
    },
    {
      "cell_type": "code",
      "execution_count": 52,
      "metadata": {
        "execution": {
          "iopub.execute_input": "2022-03-24T11:14:52.793723Z",
          "iopub.status.busy": "2022-03-24T11:14:52.793230Z",
          "iopub.status.idle": "2022-03-24T11:14:52.810304Z",
          "shell.execute_reply": "2022-03-24T11:14:52.809511Z",
          "shell.execute_reply.started": "2022-03-24T11:14:52.793679Z"
        },
        "trusted": true,
        "id": "huDzbO7BCx7q"
      },
      "outputs": [],
      "source": [
        "def fit_one_epoch(dataloader, model, loss_fn, optimizer):\n",
        "    size = len(dataloader.dataset)\n",
        "    for batch, (X, y) in enumerate(dataloader):\n",
        "        # Compute prediction and loss\n",
        "        pred = model(X)\n",
        "        loss = loss_fn(pred, y)\n",
        "\n",
        "        # Backpropagation\n",
        "        optimizer.zero_grad()\n",
        "        loss.backward()\n",
        "        optimizer.step()\n",
        "\n",
        "        if batch % 100 == 0:\n",
        "            loss, current = loss.item(), batch * len(X)\n",
        "            print(f\"loss: {loss}  [{current}/{size}]\")\n",
        "\n",
        "def predict_dataset(dataloader, model, loss_fn):\n",
        "    size = len(dataloader.dataset)\n",
        "    num_batches = len(dataloader)\n",
        "    test_loss, correct = 0, 0\n",
        "\n",
        "    with torch.no_grad():\n",
        "        for X, y in dataloader:\n",
        "            pred = model(X)\n",
        "            test_loss += loss_fn(pred, y).item()\n",
        "            correct += (pred.argmax(1) == y).type(torch.float).sum().item()\n",
        "\n",
        "    test_loss /= num_batches\n",
        "    correct /= size\n",
        "    print(f\"Error: \\n Accuracy: {(100*correct)}%, Avg loss: {test_loss} \\n\")\n",
        "    return 100*correct\n",
        "def predict(data,model,apply_softmax=True):\n",
        "    labels=data[1]\n",
        "    label=labels[0] #Take first element of batch\n",
        "    data=data[0]  \n",
        "    data=data[0,:,:,:] #Take first element of batch\n",
        "    print(f\"Size of one sample is {data.size()}\") #First dimension is 1 because image is black & white. Would be 3 for RGB.\n",
        "    pred = model(data)\n",
        "    if apply_softmax:\n",
        "        softmax=nn.Softmax()\n",
        "        pred=softmax(pred)\n",
        "    pred=pred.detach().numpy()\n",
        "    pred=pred[0]\n",
        "    print(f\"Predicted label probabilities for first image: {pred*100}\")\n",
        "    print(f\"True label for first image is {label.numpy()}\")"
      ]
    },
    {
      "cell_type": "code",
      "execution_count": 53,
      "metadata": {
        "execution": {
          "iopub.execute_input": "2022-03-24T11:14:53.077127Z",
          "iopub.status.busy": "2022-03-24T11:14:53.076748Z",
          "iopub.status.idle": "2022-03-24T11:15:22.473891Z",
          "shell.execute_reply": "2022-03-24T11:15:22.473051Z",
          "shell.execute_reply.started": "2022-03-24T11:14:53.077086Z"
        },
        "trusted": true,
        "colab": {
          "base_uri": "https://localhost:8080/"
        },
        "id": "nvOAnwpYCx7t",
        "outputId": "9b5593c6-41e0-4ec6-ba29-ffb56bc075b9"
      },
      "outputs": [
        {
          "output_type": "stream",
          "name": "stdout",
          "text": [
            "Epoch 1\n",
            "-------------------------------\n",
            "loss: 2.300034761428833  [0/40000]\n",
            "loss: 2.2835731506347656  [6400/40000]\n",
            "loss: 2.2739429473876953  [12800/40000]\n",
            "loss: 2.2543909549713135  [19200/40000]\n",
            "loss: 2.238581657409668  [25600/40000]\n",
            "loss: 2.234523296356201  [32000/40000]\n",
            "loss: 2.20382022857666  [38400/40000]\n",
            "Validation results:\n",
            "Error: \n",
            " Accuracy: 42.970000000000006%, Avg loss: 2.208899062150603 \n",
            "\n",
            "Epoch 2\n",
            "-------------------------------\n",
            "loss: 2.221964120864868  [0/40000]\n",
            "loss: 2.186511516571045  [6400/40000]\n",
            "loss: 2.1827616691589355  [12800/40000]\n",
            "loss: 2.1552882194519043  [19200/40000]\n",
            "loss: 2.120565891265869  [25600/40000]\n",
            "loss: 2.116929531097412  [32000/40000]\n",
            "loss: 2.0819156169891357  [38400/40000]\n",
            "Validation results:\n",
            "Error: \n",
            " Accuracy: 54.7%, Avg loss: 2.084194681447023 \n",
            "\n",
            "Epoch 3\n",
            "-------------------------------\n",
            "loss: 2.101576328277588  [0/40000]\n",
            "loss: 2.0404233932495117  [6400/40000]\n",
            "loss: 2.044496536254883  [12800/40000]\n",
            "loss: 1.9972805976867676  [19200/40000]\n",
            "loss: 1.9298352003097534  [25600/40000]\n",
            "loss: 1.9291521310806274  [32000/40000]\n",
            "loss: 1.881752848625183  [38400/40000]\n",
            "Validation results:\n",
            "Error: \n",
            " Accuracy: 62.519999999999996%, Avg loss: 1.8835716756286136 \n",
            "\n",
            "Epoch 4\n",
            "-------------------------------\n",
            "loss: 1.8972750902175903  [0/40000]\n",
            "loss: 1.8088923692703247  [6400/40000]\n",
            "loss: 1.8354456424713135  [12800/40000]\n",
            "loss: 1.759657382965088  [19200/40000]\n",
            "loss: 1.6555626392364502  [25600/40000]\n",
            "loss: 1.6753675937652588  [32000/40000]\n",
            "loss: 1.61916184425354  [38400/40000]\n",
            "Validation results:\n",
            "Error: \n",
            " Accuracy: 62.68%, Avg loss: 1.6274269576285296 \n",
            "\n",
            "Epoch 5\n",
            "-------------------------------\n",
            "loss: 1.6283992528915405  [0/40000]\n",
            "loss: 1.5318186283111572  [6400/40000]\n",
            "loss: 1.5999202728271484  [12800/40000]\n",
            "loss: 1.5072399377822876  [19200/40000]\n",
            "loss: 1.4003010988235474  [25600/40000]\n",
            "loss: 1.4452358484268188  [32000/40000]\n",
            "loss: 1.3927075862884521  [38400/40000]\n",
            "Validation results:\n",
            "Error: \n",
            " Accuracy: 62.629999999999995%, Avg loss: 1.4042833717006027 \n",
            "\n",
            "Epoch 6\n",
            "-------------------------------\n",
            "loss: 1.3931899070739746  [0/40000]\n",
            "loss: 1.3058503866195679  [6400/40000]\n",
            "loss: 1.414282202720642  [12800/40000]\n",
            "loss: 1.3096758127212524  [19200/40000]\n",
            "loss: 1.2247482538223267  [25600/40000]\n",
            "loss: 1.2826802730560303  [32000/40000]\n",
            "loss: 1.233076810836792  [38400/40000]\n",
            "Validation results:\n",
            "Error: \n",
            " Accuracy: 63.849999999999994%, Avg loss: 1.240687515325607 \n",
            "\n",
            "Count > patience\n",
            "Test results:\n",
            "Size of one sample is torch.Size([1, 28, 28])\n",
            "Predicted label probabilities for first image: [ 1.8993584  1.285189   5.969669   1.7081953  5.0707316 16.55603\n",
            "  4.711982  15.279383  19.1235    28.395966 ]\n",
            "True label for first image is 5\n"
          ]
        },
        {
          "output_type": "stream",
          "name": "stderr",
          "text": [
            "/usr/local/lib/python3.7/dist-packages/ipykernel_launcher.py:41: UserWarning: Implicit dimension choice for softmax has been deprecated. Change the call to include dim=X as an argument.\n"
          ]
        },
        {
          "output_type": "stream",
          "name": "stdout",
          "text": [
            "Error: \n",
            " Accuracy: 63.74999999999999%, Avg loss: 1.2353151254593187 \n",
            "\n"
          ]
        },
        {
          "output_type": "execute_result",
          "data": {
            "text/plain": [
              "63.74999999999999"
            ]
          },
          "metadata": {},
          "execution_count": 53
        }
      ],
      "source": [
        "best_acc = 0\n",
        "count = 0\n",
        "patience = 2\n",
        "for t in range(epochs):\n",
        "    print(f\"Epoch {t+1}\\n-------------------------------\")\n",
        "    fit_one_epoch(train_dataloader, model, loss_fn, optimizer)\n",
        "    print('Validation results:')\n",
        "    acc = predict_dataset(validation_dataloader, model, loss_fn)\n",
        "    if acc > best_acc and (acc - best_acc) > 3:\n",
        "      best_acc = acc\n",
        "    else:\n",
        "      count += 1\n",
        "    if count > patience:\n",
        "      print('Count > patience')\n",
        "      break\n",
        "      \n",
        "print('Test results:')\n",
        "predict(next(iter(test_dataloader)),model,loss_fn)\n",
        "predict_dataset(test_dataloader, model, loss_fn)"
      ]
    }
  ],
  "metadata": {
    "kernelspec": {
      "display_name": "Python 3",
      "language": "python",
      "name": "python3"
    },
    "language_info": {
      "codemirror_mode": {
        "name": "ipython",
        "version": 3
      },
      "file_extension": ".py",
      "mimetype": "text/x-python",
      "name": "python",
      "nbconvert_exporter": "python",
      "pygments_lexer": "ipython3",
      "version": "3.7.12"
    },
    "colab": {
      "name": "practice-05-nn-skeleton.ipynb",
      "provenance": []
    }
  },
  "nbformat": 4,
  "nbformat_minor": 0
}