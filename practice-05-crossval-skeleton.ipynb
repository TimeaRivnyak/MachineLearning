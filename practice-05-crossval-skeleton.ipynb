{
 "cells": [
  {
   "cell_type": "code",
   "execution_count": 40,
   "metadata": {
    "_cell_guid": "b1076dfc-b9ad-4769-8c92-a6c4dae69d19",
    "_uuid": "8f2839f25d086af736a60e9eeb907d3b93b6e0e5",
    "execution": {
     "iopub.execute_input": "2022-03-24T11:22:33.185623Z",
     "iopub.status.busy": "2022-03-24T11:22:33.185273Z",
     "iopub.status.idle": "2022-03-24T11:22:34.204300Z",
     "shell.execute_reply": "2022-03-24T11:22:34.203582Z",
     "shell.execute_reply.started": "2022-03-24T11:22:33.185544Z"
    },
    "trusted": true
   },
   "outputs": [],
   "source": [
    "\n",
    "import numpy as np  # linear algebra\n",
    "import pandas as pd  # data processing, CSV file I/O (e.g. pd.read_csv)\n",
    "from sklearn.linear_model import LogisticRegression\n",
    "from sklearn.model_selection import train_test_split, cross_validate\n",
    "from sklearn.model_selection import KFold\n",
    "# from sklearn.\n",
    "\n",
    "# data=pd.read_csv('../input/machine-learning/heart_disease.csv')\n",
    "data = pd.read_csv('../data/heart_disease.csv')\n",
    "labels = data.values[:, -1]\n",
    "labels[labels > 1] = 1\n",
    "labels = labels.astype(int)\n",
    "data = data.values[:, :-1]\n",
    "data = (data - np.mean(data, axis=0))/np.std(data, axis=0)\n",
    "data = np.column_stack((data, np.ones(data.shape[0])))\n",
    "lr = LogisticRegression()\n"
   ]
  },
  {
   "cell_type": "code",
   "execution_count": 41,
   "metadata": {
    "collapsed": false,
    "pycharm": {
     "name": "#%%\n"
    }
   },
   "outputs": [
    {
     "data": {
      "text/plain": [
       "LogisticRegression()"
      ]
     },
     "execution_count": 41,
     "metadata": {},
     "output_type": "execute_result"
    }
   ],
   "source": [
    "X_train, X_test, Y_train, Y_test = train_test_split(data, labels, test_size=0.2, random_state=42)\n",
    "lr.fit(X_train, Y_train)\n"
   ]
  },
  {
   "cell_type": "code",
   "execution_count": 45,
   "metadata": {
    "pycharm": {
     "name": "#%%\n"
    }
   },
   "outputs": [
    {
     "name": "stdout",
     "output_type": "stream",
     "text": [
      "Mean train accuracy at k=3: 0.8512639623750736\n",
      "Mean test accuracy at k=3: 0.8263888888888888\n",
      "STD train accuracy at k=3: 0.009738684702688639\n",
      "STD test accuracy at k=3: 0.011038715912487089\n",
      "\n",
      "Mean train accuracy at k=5: 0.8347150259067357\n",
      "Mean test accuracy at k=5: 0.8223639455782313\n",
      "STD train accuracy at k=5: 0.015240784656468477\n",
      "STD test accuracy at k=5: 0.03310259582200508\n",
      "\n",
      "Mean train accuracy at k=7: 0.8395378775813559\n",
      "Mean test accuracy at k=7: 0.8182472989195677\n",
      "STD train accuracy at k=7: 0.006521008724526862\n",
      "STD test accuracy at k=7: 0.048312728367570966\n",
      "\n",
      "Mean train accuracy at k=10: 0.8443516678645414\n",
      "Mean test accuracy at k=10: 0.8145\n",
      "STD train accuracy at k=10: 0.009739025193482385\n",
      "STD test accuracy at k=10: 0.07354156043429533\n",
      "\n",
      "Mean train accuracy at k=20: 0.8421036643250426\n",
      "Mean test accuracy at k=20: 0.8307692307692308\n",
      "STD train accuracy at k=20: 0.005895226774232116\n",
      "STD test accuracy at k=20: 0.10638708428576792\n",
      "\n",
      "Mean train accuracy at k=50: 0.8438187426869483\n",
      "Mean test accuracy at k=50: 0.8180000000000001\n",
      "STD train accuracy at k=50: 0.0041995050403906675\n",
      "STD test accuracy at k=50: 0.17685021911210627\n",
      "\n"
     ]
    }
   ],
   "source": [
    "# Cross-validation\n",
    "k =[3,5,7,10,20,50]\n",
    "out = []\n",
    "for n in k:\n",
    "    tmp = cross_validate(estimator=lr,X=X_train, y=Y_train, cv=n, return_train_score=True, scoring='accuracy')\n",
    "    # print(f'Train accuracy at k={n}: {tmp[\"train_score\"]}')\n",
    "    # print(f'Test accuracy at k={n}: {tmp[\"test_score\"]}')\n",
    "    print(f'Mean train accuracy at k={n}: {np.mean(tmp[\"train_score\"])}')\n",
    "    print(f'Mean test accuracy at k={n}: {np.mean(tmp[\"test_score\"])}')\n",
    "\n",
    "    print(f'STD train accuracy at k={n}: {np.std(tmp[\"train_score\"])}')\n",
    "    print(f'STD test accuracy at k={n}: {np.std(tmp[\"test_score\"])}')\n",
    "    print()\n",
    "    out.append(tmp)\n"
   ]
  },
  {
   "cell_type": "markdown",
   "metadata": {
    "collapsed": false
   },
   "source": [
    "k=7 has a fairly high accuracy with fairly low standard deviation\n",
    "or k=10 could be good as well"
   ]
  },
  {
   "cell_type": "code",
   "execution_count": 43,
   "metadata": {
    "collapsed": false,
    "pycharm": {
     "name": "#%%\n"
    }
   },
   "outputs": [
    {
     "name": "stdout",
     "output_type": "stream",
     "text": [
      "\n",
      "\n",
      "\n",
      "\n",
      "\n",
      "\n"
     ]
    }
   ],
   "source": [
    "for i in out:\n",
    "    print(f'')"
   ]
  }
 ],
 "metadata": {
  "kernelspec": {
   "display_name": "Python 3",
   "language": "python",
   "name": "python3"
  },
  "language_info": {
   "codemirror_mode": {
    "name": "ipython",
    "version": 3
   },
   "file_extension": ".py",
   "mimetype": "text/x-python",
   "name": "python",
   "nbconvert_exporter": "python",
   "pygments_lexer": "ipython3",
   "version": "3.10.3"
  }
 },
 "nbformat": 4,
 "nbformat_minor": 4
}